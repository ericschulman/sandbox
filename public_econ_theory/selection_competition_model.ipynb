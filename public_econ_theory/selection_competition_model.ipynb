{
 "cells": [
  {
   "cell_type": "code",
   "execution_count": 15,
   "id": "dec25260",
   "metadata": {
    "scrolled": false
   },
   "outputs": [
    {
     "name": "stdout",
     "output_type": "stream",
     "text": [
      "Monopoly Results:\n",
      " - Number of Enrolled Individuals: 726\n",
      " - Avg Cost Sharing Among Enrolled: 0.2655\n",
      " - Avg μ Among Enrolled: 1.1670\n",
      " - Avg Risk Aversion Among Enrolled: 0.6801\n",
      "Competition Results:\n",
      " - Number of Enrolled Individuals: 1000\n",
      " - Avg Cost Sharing Among Enrolled: 0.1221\n",
      " - Avg μ Among Enrolled: 1.2348\n",
      " - Avg Risk Aversion Among Enrolled: 0.5664\n"
     ]
    }
   ],
   "source": [
    "import numpy as np\n",
    "from scipy.optimize import minimize\n",
    "\n",
    "# Parameters\n",
    "n_individuals = 1000\n",
    "mu_values = np.random.uniform(0.5, 2.0, size=n_individuals)\n",
    "v_values = np.random.uniform(0.1, 1.0, size=n_individuals)\n",
    "\n",
    "# Helper functions\n",
    "def h(x): \n",
    "    return np.log(x + 1)  # Benefit from coverage\n",
    "\n",
    "def psi(x):\n",
    "    return np.log(x + 1)  # Risk adjustment\n",
    "\n",
    "def k(x): \n",
    "    return 1.3*x  # Cost depending on coverage level\n",
    "\n",
    "# Utility function\n",
    "def utility(x, mu, v):\n",
    "    return mu * h(x) + v * psi(x)\n",
    "\n",
    "# Enrollment check\n",
    "def is_enrolled(x, mu, v):\n",
    "    return utility(x, mu, v) > utility(0, mu, v)  # Enroll if utility with coverage is greater than without\n",
    "\n",
    "# Net value function\n",
    "def net_value(x, mu, v):\n",
    "    return utility(x, mu, v) - mu * k(x)\n",
    "\n",
    "# Monopoly: Optimize for each individual\n",
    "def optimize_monopoly():\n",
    "    x_individual = np.zeros(n_individuals)\n",
    "\n",
    "    for i in range(n_individuals):\n",
    "        mu_i = mu_values[i]\n",
    "        v_i = v_values[i]\n",
    "        \n",
    "        # Optimize individual net value given enrollment criteria\n",
    "        res = minimize(lambda x: -net_value(x[0], mu_i, v_i) if is_enrolled(x[0], mu_i, v_i) else -net_value(0, mu_i, v_i),\n",
    "                       [0.1], bounds=[(0, 1)])\n",
    "        x_individual[i] = res.x[0] if is_enrolled(res.x[0], mu_i, v_i) else 0\n",
    "\n",
    "    enrolled_mask = [is_enrolled(x, mu, v) for x, mu, v in zip(x_individual, mu_values, v_values)]\n",
    "\n",
    "    number_enrolled_monopoly = np.sum(enrolled_mask)\n",
    "    avg_cost_sharing_monopoly = np.mean([x for x, enrolled in zip(x_individual, enrolled_mask) if enrolled])\n",
    "    avg_mu_monopoly = np.mean([mu for mu, enrolled in zip(mu_values, enrolled_mask) if enrolled])\n",
    "    avg_risk_aversion_monopoly = np.mean([v for v, enrolled in zip(v_values, enrolled_mask) if enrolled])\n",
    "\n",
    "    print(\"Monopoly Results:\")\n",
    "    print(f\" - Number of Enrolled Individuals: {number_enrolled_monopoly}\")\n",
    "    print(f\" - Avg Cost Sharing Among Enrolled: {avg_cost_sharing_monopoly:.4f}\")\n",
    "    print(f\" - Avg μ Among Enrolled: {avg_mu_monopoly:.4f}\")\n",
    "    print(f\" - Avg Risk Aversion Among Enrolled: {avg_risk_aversion_monopoly:.4f}\")\n",
    "\n",
    "# Competition: Optimize uniform \\(x\\) for average net value\n",
    "def competitive_optimization():\n",
    "    res = minimize(lambda x: -np.mean([net_value(x[0], mu, v) if is_enrolled(x[0], mu, v) else net_value(0, mu, v) for mu, v in zip(mu_values, v_values)]), \n",
    "                   [0.1], bounds=[(0, 1)])\n",
    "    \n",
    "    optimal_x_competitive = res.x[0]\n",
    "    enrolled_mask_competitive = [is_enrolled(optimal_x_competitive, mu, v) for mu, v in zip(mu_values, v_values)]\n",
    "    x_competitive = optimal_x_competitive if np.any(enrolled_mask_competitive) else 0\n",
    "\n",
    "    number_enrolled_competitive = np.sum(enrolled_mask_competitive)\n",
    "    avg_cost_sharing_competitive = x_competitive\n",
    "    avg_mu_competitive = np.mean([mu for mu, enrolled in zip(mu_values, enrolled_mask_competitive) if enrolled])\n",
    "    avg_risk_aversion_competitive = np.mean([v for v, enrolled in zip(v_values, enrolled_mask_competitive) if enrolled])\n",
    "\n",
    "    print(\"Competition Results:\")\n",
    "    print(f\" - Number of Enrolled Individuals: {number_enrolled_competitive}\")\n",
    "    print(f\" - Avg Cost Sharing Among Enrolled: {avg_cost_sharing_competitive:.4f}\")\n",
    "    print(f\" - Avg μ Among Enrolled: {avg_mu_competitive:.4f}\")\n",
    "    print(f\" - Avg Risk Aversion Among Enrolled: {avg_risk_aversion_competitive:.4f}\")\n",
    "\n",
    "optimize_monopoly()\n",
    "competitive_optimization()"
   ]
  },
  {
   "cell_type": "code",
   "execution_count": null,
   "id": "e65c38f1",
   "metadata": {},
   "outputs": [],
   "source": []
  }
 ],
 "metadata": {
  "kernelspec": {
   "display_name": "Python 3 (ipykernel)",
   "language": "python",
   "name": "python3"
  },
  "language_info": {
   "codemirror_mode": {
    "name": "ipython",
    "version": 3
   },
   "file_extension": ".py",
   "mimetype": "text/x-python",
   "name": "python",
   "nbconvert_exporter": "python",
   "pygments_lexer": "ipython3",
   "version": "3.10.14"
  }
 },
 "nbformat": 4,
 "nbformat_minor": 5
}
